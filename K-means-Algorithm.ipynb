{
  "nbformat": 4,
  "nbformat_minor": 0,
  "metadata": {
    "colab": {
      "name": "Untitled2.ipynb",
      "provenance": [],
      "collapsed_sections": [],
      "toc_visible": true,
      "authorship_tag": "ABX9TyPrN2+CfPd6YNpWwlEk7HZj",
      "include_colab_link": true
    },
    "kernelspec": {
      "name": "python3",
      "display_name": "Python 3"
    }
  },
  "cells": [
    {
      "cell_type": "markdown",
      "metadata": {
        "id": "view-in-github",
        "colab_type": "text"
      },
      "source": [
        "<a href=\"https://colab.research.google.com/github/osamazafar980/Image-Segmentation-Using-K-means-Algorithm/blob/master/K-means-Algorithm.ipynb\" target=\"_parent\"><img src=\"https://colab.research.google.com/assets/colab-badge.svg\" alt=\"Open In Colab\"/></a>"
      ]
    },
    {
      "cell_type": "markdown",
      "metadata": {
        "id": "QBAFm4rXmEh9",
        "colab_type": "text"
      },
      "source": [
        "Importing"
      ]
    },
    {
      "cell_type": "code",
      "metadata": {
        "id": "xrVaA0eJlsBZ",
        "colab_type": "code",
        "colab": {}
      },
      "source": [
        "import numpy as np\n",
        "import matplotlib.pyplot as plt\n",
        "\n",
        "from skimage import data\n",
        "from skimage.color import rgb2gray\n",
        "import cv2\n",
        "import copy"
      ],
      "execution_count": 0,
      "outputs": []
    },
    {
      "cell_type": "markdown",
      "metadata": {
        "id": "_og9n0eemHMi",
        "colab_type": "text"
      },
      "source": [
        "Preprocessing"
      ]
    },
    {
      "cell_type": "code",
      "metadata": {
        "id": "h4PtQ1QXmJ6T",
        "colab_type": "code",
        "colab": {
          "base_uri": "https://localhost:8080/",
          "height": 208
        },
        "outputId": "adb511eb-73a7-4333-f654-44b15cde022b"
      },
      "source": [
        "original = cv2.imread('image.jpg')\n",
        "grayscale = rgb2gray(original)\n",
        "grayShape = grayscale.shape\n",
        "print(\"Image Shape = \",grayShape)\n",
        "def kmean(cen):\n",
        "  clusters=centeriod(cen,grayscale)\n",
        "  clustersIntensities = [[] for _ in range(len(clusters))]\n",
        "  for number in range(0,len(clusters)):\n",
        "    for index in range(0,len(clusters[number])):\n",
        "      clustersIntensities[number].append(grayscale[clusters[number][index][0]][clusters[number][index][1]])\n",
        "  clustersAvg=[]\n",
        "  for index in range(0,len(clustersIntensities)):\n",
        "    clustersAvg.append(np.mean(clustersIntensities[index]))\n",
        "  return clustersAvg,clusters\n",
        "#Centriod values ranging from 0.0000-1.00000\n",
        "cen=[1,0.6,0.2]\n",
        "\n",
        "clustersAvg,clusters=kmean(cen)\n",
        "run = True\n",
        "while(run):\n",
        "  change=False\n",
        "  for digit in range(0,len(cen)):\n",
        "    if(cen[digit]-clustersAvg[digit]>0.00009):\n",
        "      cen[digit]=clustersAvg[digit]\n",
        "      change=True\n",
        "  if(change):\n",
        "    clustersAvg,clusters=kmean(cen)\n",
        "  else:\n",
        "    run=False\n",
        "fig, axes = plt.subplots(1, len(clustersAvg)+2, figsize=(8, 4))\n",
        "ax = axes.ravel()\n",
        "ax[0].imshow(original)\n",
        "ax[0].set_title(\"Original\")\n",
        "ax[1].imshow(grayscale, cmap=plt.cm.gray)\n",
        "ax[1].set_title(\"Grayscale\")\n",
        "\n",
        "\n",
        "for number in range(0,len(clusters)):\n",
        "  clusterGrayscale=copy.deepcopy(grayscale);\n",
        "  for rows in range(0,grayShape[0]):\n",
        "    for col in range(0,grayShape[1]):\n",
        "      clusterGrayscale[rows][col]=0\n",
        "  for index in range(0,len(clusters[number])):\n",
        "      clusterGrayscale[clusters[number][index][0]][clusters[number][index][1]]=1\n",
        "  ax[number+2].imshow(clusterGrayscale,cmap=plt.cm.gray)\n",
        "  title=\"Cluster 0\"+str(number)\n",
        "  ax[number+2].set_title(title)\n",
        "  \n",
        "  \n",
        "fig.tight_layout()\n",
        "print(\"K-mean Centriods:\")\n",
        "for index in range(0,len(clustersAvg)):\n",
        "  print(\"Centriod 0\",str(index),\": \",str(clustersAvg[index]))\n",
        "\n",
        "print(\"K-mean Plot clustered pixels are represented with white\")\n",
        "plt.show()"
      ],
      "execution_count": 103,
      "outputs": [
        {
          "output_type": "stream",
          "text": [
            "Image Shape =  (168, 300)\n",
            "K-mean Centriods:\n",
            "Centriod 0 0 :  0.9832082406307023\n",
            "Centriod 0 1 :  0.5114050409849833\n",
            "Centriod 0 2 :  0.1301975381692339\n",
            "K-mean Plot clustered pixels are represented with white\n"
          ],
          "name": "stdout"
        },
        {
          "output_type": "display_data",
          "data": {
            "image/png": "[encoded data removed]",
            "text/plain": [
              "<Figure size 576x288 with 5 Axes>"
            ]
          },
          "metadata": {
            "tags": []
          }
        }
      ]
    },
    {
      "cell_type": "markdown",
      "metadata": {
        "id": "iE9jJGzSqNlj",
        "colab_type": "text"
      },
      "source": [
        "K-Means"
      ]
    },
    {
      "cell_type": "code",
      "metadata": {
        "id": "dAVNeJ6pqRQM",
        "colab_type": "code",
        "colab": {}
      },
      "source": [
        "def dist(x,y):\n",
        "  return abs(x-y)\n",
        "def genMeanCluster(cen,img):\n",
        "  meanCluster=[]\n",
        "  for imageValue in img:\n",
        "    for imageValues in imageValue:\n",
        "      meanCluster.append(dist(imageValues,cen))\n",
        "  return meanCluster\n",
        "def genCluster(meanClusters):\n",
        "  clusters = [[] for _ in range(len(meanClusters))]\n",
        "  for rows in range(0,grayShape[0]):\n",
        "    for col in range(0,grayShape[1]):\n",
        "      values=[]\n",
        "      for num in range(0,len(meanClusters)):\n",
        "        values.append(meanClusters[num][rows][col])\n",
        "      minValue=min(values)\n",
        "      minCluster=0\n",
        "      for num in range(0,len(meanClusters)):\n",
        "        if(minValue==meanClusters[num][rows][col]):\n",
        "          minCluster=num\n",
        "      clusters[minCluster].append((rows,col))\n",
        "  return clusters\n",
        "\n",
        "\n",
        "\n",
        "def centeriod(centeriodValues,img):\n",
        "  meanCluster=[]\n",
        "  for cen in centeriodValues:\n",
        "    meanCluster.append(genMeanCluster(cen,img))\n",
        "  for index in range(0,len(meanCluster)):\n",
        "    meanCluster[index]=np.reshape(meanCluster[index],grayShape)\n",
        "  clusters=genCluster(meanCluster)\n",
        "  return clusters\n",
        "\n"
      ],
      "execution_count": 0,
      "outputs": []
    }
  ]
}